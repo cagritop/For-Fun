{
 "cells": [
  {
   "cell_type": "code",
   "execution_count": 9,
   "metadata": {
    "collapsed": true
   },
   "outputs": [],
   "source": [
    "import matplotlib as mpl\n",
    "import matplotlib.pyplot as plt\n",
    "\n",
    "# Edit the font, font size, and axes width\n",
    "mpl.rcParams['font.family'] = 'Arial'\n",
    "#plt.rcParams['font.size'] = 18\n",
    "plt.rcParams['axes.linewidth'] = 2\n",
    "\n",
    "%matplotlib inline"
   ]
  },
  {
   "cell_type": "markdown",
   "metadata": {},
   "source": [
    "## We'll look into : Path of the sum, probability distributions of last two rolls in stopping after a threshold"
   ]
  },
  {
   "cell_type": "markdown",
   "metadata": {},
   "source": [
    "### Roll a Dice infinite times. Update the cumulative sum after each roll. What is the probability that evolution of sum will pass through N?"
   ]
  },
  {
   "cell_type": "code",
   "execution_count": 38,
   "metadata": {},
   "outputs": [
    {
     "data": {
      "text/plain": [
       "0.30877057613168724"
      ]
     },
     "execution_count": 38,
     "metadata": {},
     "output_type": "execute_result"
    }
   ],
   "source": [
    "# p(1) = 1/6 = A\n",
    "# p(2) = 1/6 + 1/6*p(1)\n",
    "# p(3) = 1/6 + 1/6*p(2) + 1/6*p(1)\n",
    "# Similarly for large N, p(N) = sum_i=1to6 1/6*p(N-i). \n",
    "\n",
    "# the sequence is\n",
    "1 # A\n",
    "2 # A + A^2\n",
    "3 # A + A^2 + A^3\n",
    "# ...\n",
    "6 # A + A^2 + .... A^6\n",
    "\n",
    "# Sum of 1 to 6 is 5*p(6)/2 + p(6) = 7*p(6)/2\n",
    "7 # then p(7) = 7/12*p(6)\n",
    "8 # then p(8) = 49/12*p(6) - 1/6\n",
    "\n",
    "# For large N, the next number is a rolling window average of width 6. \n",
    "# Characteristic polynomial is 6x^6-x^5-x^4-x^3-x^2-x-1 = 0, x = 1 is a root\n",
    "# Sum of roots is 1/6. There is one positive one negative root, rest are complex concugate pairs\n",
    "# 6x^6-x^5-x^4-x^3-x^2-x-1  = (x -1)( 6x^5 + 5x^4 + 4x^3 + 3x^2 + 2x + 1 )\n",
    "\n",
    "# Let's calculate this number for any N\n",
    "mi_dict = { 1: 1/6 }\n",
    "# even if we memorize, still slower than the iterative method\n",
    "def p_N( N ):\n",
    "    if N == 1:\n",
    "        return 1/6\n",
    "    pN = 0\n",
    "    if N < 7:\n",
    "        pN += 1/6\n",
    "    for i in range(6):\n",
    "        if N - (i + 1) >=1:\n",
    "            pN += mi_dict.get( N-(i+1), p_N( N-(i+1) ) )/6\n",
    "    mi_dict[ N ] = pN\n",
    "    #print( mi_dict )\n",
    "    return pN\n",
    "p_N( 5 )"
   ]
  },
  {
   "cell_type": "code",
   "execution_count": 24,
   "metadata": {},
   "outputs": [
    {
     "name": "stdout",
     "output_type": "stream",
     "text": [
      "0.2857143000636835\n"
     ]
    }
   ],
   "source": [
    "# Let's keep the probability of visiting each N in memory \n",
    "memory = { 1: 1/6 }\n",
    "N = 3\n",
    "\n",
    "def iterative_pN( N ):\n",
    "    for i in range( 2, N+1 ):\n",
    "        p = 0\n",
    "        if i < 7:\n",
    "            p += 1/6\n",
    "        for j in range(6):\n",
    "            if i - ( j + 1) > 0:\n",
    "                p += memory[ i - ( j +1 ) ]/6\n",
    "        memory[ i ] = p  \n",
    "    return memory[ N ] \n",
    "res = iterative_pN(50)\n",
    "print( res )"
   ]
  },
  {
   "cell_type": "code",
   "execution_count": 68,
   "metadata": {},
   "outputs": [
    {
     "data": {
      "text/plain": [
       "<matplotlib.text.Text at 0x2cb60e4b748>"
      ]
     },
     "execution_count": 68,
     "metadata": {},
     "output_type": "execute_result"
    },
    {
     "data": {
      "image/png": "[encoded data removed]",
      "text/plain": [
       "<matplotlib.figure.Figure at 0x2cb60e06ba8>"
      ]
     },
     "metadata": {},
     "output_type": "display_data"
    }
   ],
   "source": [
    "# plot probability of passing through N as a function of N\n",
    "# large N limit is 2/7\n",
    "plt.rc( 'font', size = 14 )\n",
    "plt.scatter( list( memory.keys() ), list( memory.values() ), color = 'peru', alpha = 0.6, edgecolor = 'k' )\n",
    "plt.ylabel( \"Probability\" )\n",
    "plt.xlabel( \"N\" )"
   ]
  },
  {
   "cell_type": "code",
   "execution_count": 12,
   "metadata": {},
   "outputs": [
    {
     "data": {
      "text/plain": [
       "0.22685185185185183"
      ]
     },
     "execution_count": 12,
     "metadata": {},
     "output_type": "execute_result"
    }
   ],
   "source": [
    "# probability of sum passing through 3\n",
    "7/36/6+1/6/6+1/6"
   ]
  },
  {
   "cell_type": "markdown",
   "metadata": {},
   "source": [
    "### Roll a Dice until the sum passes a threshold N. What is the probability distribution for the last roll?"
   ]
  },
  {
   "cell_type": "code",
   "execution_count": 22,
   "metadata": {
    "collapsed": true
   },
   "outputs": [],
   "source": [
    "# Let's keep the probability of visiting each N in memory \n",
    "memory = { 1: 1/6 }\n",
    "N = 63\n",
    "\n",
    "res = iterative_pN(N)"
   ]
  },
  {
   "cell_type": "code",
   "execution_count": 15,
   "metadata": {},
   "outputs": [
    {
     "name": "stdout",
     "output_type": "stream",
     "text": [
      "{1: 0.04761904751761173, 2: 0.09523809500007144, 3: 0.14285714265742025, 4: 0.19047619056878365, 5: 0.23809523844786748, 6: 0.28571428580824565}\n"
     ]
    },
    {
     "data": {
      "text/plain": [
       "1.0000000000000002"
      ]
     },
     "execution_count": 15,
     "metadata": {},
     "output_type": "execute_result"
    },
    {
     "data": {
      "image/png": "[encoded data removed]",
      "text/plain": [
       "<matplotlib.figure.Figure at 0x1d3c0a21da0>"
      ]
     },
     "metadata": {},
     "output_type": "display_data"
    }
   ],
   "source": [
    "# Once we have probabilities of visiting each N\n",
    "# We can calculate the probability distribution of last roll going backwards\n",
    "# We expect 6 to have the highest probability because it gives you the biggest step to cross the threshold \n",
    "# i.e more possible\n",
    "# Indeed in the large threshold limit, we expect p(6) = 6/ (6*7/2) = 2/7\n",
    "# Using similar reasoning we can also get the steady state probability of the sum's path visiting N:\n",
    "# For large enough stopping number T, \n",
    "# p(last roll = 1) = p(T)*1/6 => p(T) = 6/21 = 2/7 \n",
    "\n",
    "# keep the probability distribution in a dictionary\n",
    "mi_dict = { }\n",
    "for i in range(6):\n",
    "    mi_dict[ i+1 ] = 0\n",
    "\n",
    "for i in range(6):\n",
    "    for j in range(6):\n",
    "        if N + i - j <= N:\n",
    "            mi_dict[ j+1 ] += memory[ N + i - j ]*1/6\n",
    "\n",
    "print( mi_dict )\n",
    "plt.bar( list( mi_dict.keys() ), list( mi_dict.values() ) )\n",
    "plt.title( \"Probability distribution of the last roll\")\n",
    "sum( list( mi_dict.values() ) )"
   ]
  },
  {
   "cell_type": "markdown",
   "metadata": {},
   "source": [
    "### Roll a Dice until the sum passes a threshold N. What is the probability distribution for the second from the last roll?"
   ]
  },
  {
   "cell_type": "code",
   "execution_count": 21,
   "metadata": {},
   "outputs": [
    {
     "name": "stdout",
     "output_type": "stream",
     "text": [
      "{1: 0.16666666666666669, 2: 0.1666666666666667, 3: 0.1666666666666667, 4: 0.1666666666666667, 5: 0.1666666666666667, 6: 0.1666666666666667}\n"
     ]
    },
    {
     "data": {
      "text/plain": [
       "1.0000000000000002"
      ]
     },
     "execution_count": 21,
     "metadata": {},
     "output_type": "execute_result"
    },
    {
     "data": {
      "image/png": "[encoded data removed]",
      "text/plain": [
       "<matplotlib.figure.Figure at 0x1d3c0bf0e80>"
      ]
     },
     "metadata": {},
     "output_type": "display_data"
    }
   ],
   "source": [
    "# probability of having sequence (N-j-i, N-j, N ) for the sum given j is\n",
    "# P(N-j-i)*1/6\n",
    "# Then probability of rolling i,j in last sequence is P(N-j-i)*P( rolling i )*P( rolling j )\n",
    "\n",
    "# keep the probability distribution in a dictionary\n",
    "mi_dict = { }\n",
    "for i in range(6):\n",
    "    mi_dict[ i+1 ] = 0\n",
    "    \n",
    "for i in range(6):\n",
    "    for j in range(6):\n",
    "        if N + i - j <= N:\n",
    "            for q in range(6):\n",
    "                mi_dict[ q+1 ] += memory[ N + i - j -q ]*1/6*1/6\n",
    "\n",
    "print( mi_dict )\n",
    "plt.bar( list( mi_dict.keys() ), list( mi_dict.values() ) )\n",
    "plt.title( \"probability distribution of the roll second to last\" )\n",
    "sum( list( mi_dict.values() ) )"
   ]
  },
  {
   "cell_type": "code",
   "execution_count": null,
   "metadata": {
    "collapsed": true
   },
   "outputs": [],
   "source": [
    "# Why is it uniform?\n",
    "\n",
    "#    Last Sum -One Step Bef\n",
    "# 1 :   64    -    63\n",
    "# 2 :   64    -    62\n",
    "#       63    -    61\n",
    "# 3 :   65    -    62\n",
    "#       64    -    61\n",
    "#       63    -    60\n",
    "# ...\n",
    "\n",
    "# but for two steps before, the p(N) already saturated at 2/7 since we are in N-> Inf limit\n",
    "# therefore the step before last has uniform probability."
   ]
  },
  {
   "cell_type": "markdown",
   "metadata": {},
   "source": [
    "### Using numbers in [1,6], generate all paths of reacing sum N\n",
    "\n",
    "Keep constituents in a dictionary, can calculate number of permutations to get number of different ways"
   ]
  },
  {
   "cell_type": "code",
   "execution_count": 2,
   "metadata": {
    "collapsed": true
   },
   "outputs": [],
   "source": [
    "import math"
   ]
  },
  {
   "cell_type": "code",
   "execution_count": 43,
   "metadata": {},
   "outputs": [
    {
     "data": {
      "text/plain": [
       "{1: 0, 2: 0, 3: 0, 4: 0, 5: 0, 6: 0, 'Total': 0}"
      ]
     },
     "execution_count": 43,
     "metadata": {},
     "output_type": "execute_result"
    }
   ],
   "source": [
    "# hold rolled numbers in a dictionary\n",
    "mi_dict = { }\n",
    "for i in range(6):\n",
    "    mi_dict[ i+1 ] = 0\n",
    "mi_dict[ \"Total\" ] = sum(mi_dict.values())\n",
    "mi_dict"
   ]
  },
  {
   "cell_type": "code",
   "execution_count": 3,
   "metadata": {},
   "outputs": [
    {
     "data": {
      "text/plain": [
       "90.0"
      ]
     },
     "execution_count": 3,
     "metadata": {},
     "output_type": "execute_result"
    }
   ],
   "source": [
    "# calculate number of permuations\n",
    "def N_perm( mi_dict ):\n",
    "    res = math.factorial( sum( mi_dict.values() ) )\n",
    "    for i in range(len( mi_dict ) - 1):\n",
    "        res /= math.factorial( mi_dict[ i + 1 ] )\n",
    "    return res\n",
    "N_perm( { 1: 2, 2: 2, 3: 2, 4: 0, 5: 0, 6: 0, \"Total\" : 0 } )"
   ]
  },
  {
   "cell_type": "code",
   "execution_count": 5,
   "metadata": {
    "collapsed": true
   },
   "outputs": [],
   "source": [
    "results = { 0 :  [ mi_dict ]  }"
   ]
  },
  {
   "cell_type": "markdown",
   "metadata": {},
   "source": [
    "Keep all possible paths in a list"
   ]
  },
  {
   "cell_type": "code",
   "execution_count": 47,
   "metadata": {},
   "outputs": [
    {
     "data": {
      "text/plain": [
       "{0: [[]],\n",
       " 1: [[1]],\n",
       " 2: [[1, 1], [2]],\n",
       " 3: [[1, 2], [1, 1, 1], [2, 1], [3]],\n",
       " 4: [[1, 3],\n",
       "  [1, 1, 2],\n",
       "  [2, 2],\n",
       "  [1, 2, 1],\n",
       "  [1, 1, 1, 1],\n",
       "  [2, 1, 1],\n",
       "  [3, 1],\n",
       "  [4]]}"
      ]
     },
     "execution_count": 47,
     "metadata": {},
     "output_type": "execute_result"
    }
   ],
   "source": [
    "# iterative\n",
    "# Starting from 0, we can fill up to N\n",
    "results = { 0 : [ [] ] }\n",
    "N = 4\n",
    "for i in range(1, N+1 ):\n",
    "    if i<7:\n",
    "        t = results.get( i , [] )\n",
    "        t.append( [ i ] )\n",
    "        results[ i ] = t\n",
    "    #if i != N:\n",
    "    for j in range(6):\n",
    "        if i+j+1 <= N:\n",
    "            for elem in results[ i ]:\n",
    "                temp2 = elem.copy()\n",
    "                temp2.append( j + 1 )\n",
    "                temp3 = results.get( i + j + 1 , [] )\n",
    "                temp3.append( temp2 )\n",
    "                results[ i + j + 1 ] = temp3 \n",
    "results"
   ]
  },
  {
   "cell_type": "markdown",
   "metadata": {},
   "source": [
    "Find a way of getting rid of temps above. Do it recursively:"
   ]
  },
  {
   "cell_type": "code",
   "execution_count": 48,
   "metadata": {
    "collapsed": true
   },
   "outputs": [],
   "source": [
    "# recursive\n",
    "# Complexity :\n",
    "all_results = {}\n",
    "\n",
    "def paths_to_N(N):\n",
    "    if N == 0:\n",
    "        all_results[ 0 ] = [[]] \n",
    "        return [[]]\n",
    "    paths = []\n",
    "    for i in range(6):\n",
    "        if N-i-1>=0:\n",
    "            pre_paths = all_results.get( N-i-1, paths_to_N( N - (i + 1) ) )\n",
    "            for path in pre_paths:\n",
    "                path.append( i+1 )\n",
    "                paths.append( path )\n",
    "    all_results[ N ] = paths\n",
    "    return paths"
   ]
  },
  {
   "cell_type": "code",
   "execution_count": 49,
   "metadata": {},
   "outputs": [
    {
     "data": {
      "text/plain": [
       "1936"
      ]
     },
     "execution_count": 49,
     "metadata": {},
     "output_type": "execute_result"
    }
   ],
   "source": [
    "len(paths_to_N(12))"
   ]
  },
  {
   "cell_type": "code",
   "execution_count": 50,
   "metadata": {},
   "outputs": [
    {
     "name": "stdout",
     "output_type": "stream",
     "text": [
      "Yep\n"
     ]
    }
   ],
   "source": [
    "if( results[ 4 ].sort() == paths_to_N(4).sort() ): print( \"Yep\" )"
   ]
  },
  {
   "cell_type": "markdown",
   "metadata": {},
   "source": [
    "### How many different ways we can add numbers from 1 to 6 to get number N?"
   ]
  },
  {
   "cell_type": "code",
   "execution_count": 54,
   "metadata": {
    "collapsed": true
   },
   "outputs": [],
   "source": [
    "# f(N) = Sum_{i=1 to 6}( f(N-i) )\n",
    "# for f(1) to f(6), there is possibility of direct landing\n",
    "# To only visit each node once, use a dictionary to store calculated results\n",
    "# Then we visit each N only once\n",
    "\n",
    "# recursive\n",
    "# Complexity : O(N)\n",
    "\n",
    "all_results = {}\n",
    "def num_ways_to_add(N):\n",
    "    if N == 0 :\n",
    "        all_results[ 0 ] = 0\n",
    "        return 0\n",
    "    ways = 0;\n",
    "    for i in range(6):\n",
    "        if N-i-1>=0:  \n",
    "            ways += all_results.get( N-i-1, num_ways_to_add( N-i-1 ) )\n",
    "    if N < 7:\n",
    "        ways +=1\n",
    "    all_results[ N ] = ways \n",
    "    return ways"
   ]
  },
  {
   "cell_type": "code",
   "execution_count": 55,
   "metadata": {},
   "outputs": [
    {
     "data": {
      "text/plain": [
       "1936"
      ]
     },
     "execution_count": 55,
     "metadata": {},
     "output_type": "execute_result"
    }
   ],
   "source": [
    "num_ways_to_add(12)"
   ]
  },
  {
   "cell_type": "code",
   "execution_count": 56,
   "metadata": {},
   "outputs": [
    {
     "name": "stdout",
     "output_type": "stream",
     "text": [
      "Yep\n"
     ]
    }
   ],
   "source": [
    "j = 0\n",
    "l = 6\n",
    "h = 20\n",
    "for i in range( l,h ):\n",
    "    if( len( paths_to_N( i ) ) == num_ways_to_add( i) ):\n",
    "        j+=1\n",
    "if j == h-l:\n",
    "    print( \"Yep\" )"
   ]
  }
 ],
 "metadata": {
  "kernelspec": {
   "display_name": "Python 3",
   "language": "python",
   "name": "python3"
  },
  "language_info": {
   "codemirror_mode": {
    "name": "ipython",
    "version": 3
   },
   "file_extension": ".py",
   "mimetype": "text/x-python",
   "name": "python",
   "nbconvert_exporter": "python",
   "pygments_lexer": "ipython3",
   "version": "3.6.2"
  }
 },
 "nbformat": 4,
 "nbformat_minor": 2
}
