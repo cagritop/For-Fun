{
 "cells": [
  {
   "cell_type": "code",
   "execution_count": 87,
   "metadata": {},
   "outputs": [],
   "source": [
    "# given numerator and denominator, return the decimal form\n",
    "\n",
    "def decimal(num, den):\n",
    "    if den == 0:\n",
    "        return \"Nan\"\n",
    "    if num == 0:\n",
    "        return \"0\"\n",
    "    if num*den < 0:\n",
    "        sign = \"-\"\n",
    "    else:\n",
    "        sign = \"\"\n",
    "    num = abs(num)\n",
    "    den = abs(den)\n",
    "    predec = str( num//den )\n",
    "    r = num % den\n",
    "    dic = {}\n",
    "    dec = \"\"\n",
    "    i=0\n",
    "    while( r not in dic ):      \n",
    "        dic[r] = i\n",
    "        \n",
    "        dec += str( 10*r // den )\n",
    "        r = (10*r) %  den \n",
    "        i += 1\n",
    "    non_rep = dec[ :dic[r] ]\n",
    "    s = sign + predec \n",
    "    if list( dic.keys() ) == [ 0 ]:\n",
    "        return s\n",
    "    s+= \".\" + non_rep\n",
    "    if r!=0:          \n",
    "        rep = \"(\" + dec[ dic[r]: ] + \")\"\n",
    "        return s + rep\n",
    "    else:\n",
    "        return s\n",
    "    \n",
    "    "
   ]
  },
  {
   "cell_type": "code",
   "execution_count": 88,
   "metadata": {},
   "outputs": [
    {
     "data": {
      "text/plain": [
       "'0'"
      ]
     },
     "execution_count": 88,
     "metadata": {},
     "output_type": "execute_result"
    }
   ],
   "source": [
    "decimal(0,11)"
   ]
  },
  {
   "cell_type": "code",
   "execution_count": 85,
   "metadata": {},
   "outputs": [
    {
     "data": {
      "text/plain": [
       "'-0.(09)'"
      ]
     },
     "execution_count": 85,
     "metadata": {},
     "output_type": "execute_result"
    }
   ],
   "source": [
    "decimal(-1,11)"
   ]
  },
  {
   "cell_type": "code",
   "execution_count": 84,
   "metadata": {},
   "outputs": [
    {
     "data": {
      "text/plain": [
       "'0.(142857)'"
      ]
     },
     "execution_count": 84,
     "metadata": {},
     "output_type": "execute_result"
    }
   ],
   "source": [
    "decimal(1,7)"
   ]
  },
  {
   "cell_type": "code",
   "execution_count": 83,
   "metadata": {},
   "outputs": [
    {
     "data": {
      "text/plain": [
       "'0.5'"
      ]
     },
     "execution_count": 83,
     "metadata": {},
     "output_type": "execute_result"
    }
   ],
   "source": [
    "decimal(1,2)"
   ]
  },
  {
   "cell_type": "code",
   "execution_count": 82,
   "metadata": {},
   "outputs": [
    {
     "data": {
      "text/plain": [
       "'2'"
      ]
     },
     "execution_count": 82,
     "metadata": {},
     "output_type": "execute_result"
    }
   ],
   "source": [
    "decimal(2,1)"
   ]
  },
  {
   "cell_type": "code",
   "execution_count": null,
   "metadata": {},
   "outputs": [],
   "source": []
  }
 ],
 "metadata": {
  "kernelspec": {
   "display_name": "Python 3",
   "language": "python",
   "name": "python3"
  },
  "language_info": {
   "codemirror_mode": {
    "name": "ipython",
    "version": 3
   },
   "file_extension": ".py",
   "mimetype": "text/x-python",
   "name": "python",
   "nbconvert_exporter": "python",
   "pygments_lexer": "ipython3",
   "version": "3.8.5"
  }
 },
 "nbformat": 4,
 "nbformat_minor": 4
}
